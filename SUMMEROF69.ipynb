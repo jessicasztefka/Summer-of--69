{
 "cells": [
  {
   "cell_type": "markdown",
   "id": "73b0040d",
   "metadata": {},
   "source": [
    "# Return the sum of the numbers in the array, except ignore sections of numbers starting with a 6 and extending to the next 9 (every 6 will be followed by at least one 9). Return 0 for no numbers"
   ]
  },
  {
   "cell_type": "code",
   "execution_count": 52,
   "id": "6da1c6de",
   "metadata": {},
   "outputs": [],
   "source": [
    "def summer_69(arr):\n",
    "    \n",
    "    total = 0 # to sum!!\n",
    "    add = True #default: keep adding numbers\n",
    "    \n",
    "    for num in arr:\n",
    "        \n",
    "        while add: #while i am still adding\n",
    "            \n",
    "            if num != 6: #not equal\n",
    "                total = total+num\n",
    "                break #every number will be checked, starting from begining\n",
    "                \n",
    "            else:\n",
    "                add=False\n",
    "        \n",
    "        while not add:\n",
    "            \n",
    "            if not add:\n",
    "                if num != 9:\n",
    "                    break # break out of 'not add'\n",
    "                else:\n",
    "                    add=True\n",
    "                    break\n",
    "    return total"
   ]
  },
  {
   "cell_type": "code",
   "execution_count": 53,
   "id": "90a36b5a",
   "metadata": {},
   "outputs": [
    {
     "data": {
      "text/plain": [
       "9"
      ]
     },
     "execution_count": 53,
     "metadata": {},
     "output_type": "execute_result"
    }
   ],
   "source": [
    "summer_69([1, 3, 5])"
   ]
  },
  {
   "cell_type": "code",
   "execution_count": 54,
   "id": "6ef062fe",
   "metadata": {},
   "outputs": [
    {
     "data": {
      "text/plain": [
       "9"
      ]
     },
     "execution_count": 54,
     "metadata": {},
     "output_type": "execute_result"
    }
   ],
   "source": [
    "summer_69([4, 5, 6, 7, 8, 9])"
   ]
  },
  {
   "cell_type": "code",
   "execution_count": 55,
   "id": "4684d73c",
   "metadata": {},
   "outputs": [
    {
     "data": {
      "text/plain": [
       "14"
      ]
     },
     "execution_count": 55,
     "metadata": {},
     "output_type": "execute_result"
    }
   ],
   "source": [
    "summer_69([2, 1, 6, 9, 11])"
   ]
  },
  {
   "cell_type": "code",
   "execution_count": 56,
   "id": "d2760939",
   "metadata": {},
   "outputs": [],
   "source": [
    "def summer_69(arr):\n",
    "\n",
    "    total = 0\n",
    "    add = True\n",
    "\n",
    "\n",
    "    for num in arr:\n",
    "\n",
    "        if add:\n",
    "            if num!=6:\n",
    "                total += num\n",
    "\n",
    "            else:\n",
    "                add = False # jeżeli równy 6 to nie dodajemy\n",
    "\n",
    "        else: # jeżeli pojawiła się szóstka\n",
    "            if num==9: # jeżeli pojawiła się 9, to znowu prawda\n",
    "                add = True\n",
    "\n",
    "    return total"
   ]
  },
  {
   "cell_type": "code",
   "execution_count": 57,
   "id": "2cbefae3",
   "metadata": {},
   "outputs": [
    {
     "data": {
      "text/plain": [
       "9"
      ]
     },
     "execution_count": 57,
     "metadata": {},
     "output_type": "execute_result"
    }
   ],
   "source": [
    "summer_69([4, 5, 6, 7, 8, 9])"
   ]
  },
  {
   "cell_type": "code",
   "execution_count": null,
   "id": "df4dedca",
   "metadata": {},
   "outputs": [],
   "source": []
  }
 ],
 "metadata": {
  "kernelspec": {
   "display_name": "Python 3",
   "language": "python",
   "name": "python3"
  },
  "language_info": {
   "codemirror_mode": {
    "name": "ipython",
    "version": 3
   },
   "file_extension": ".py",
   "mimetype": "text/x-python",
   "name": "python",
   "nbconvert_exporter": "python",
   "pygments_lexer": "ipython3",
   "version": "3.8.8"
  }
 },
 "nbformat": 4,
 "nbformat_minor": 5
}
